{
 "cells": [
  {
   "cell_type": "code",
   "execution_count": 91,
   "metadata": {},
   "outputs": [],
   "source": [
    "matrix = [[0,0,0,0,1],\n",
    "          [1,1,0,0,1],\n",
    "          [0,1,0,0,0],\n",
    "          [0,0,0,1,1],\n",
    "          [1,1,0,0,0]]"
   ]
  },
  {
   "cell_type": "markdown",
   "metadata": {},
   "source": [
    "|0,0|0,1|0,2|0,3|0,4|\n",
    "|---|---|---|---|---|\n",
    "|1,0|1,1|1,2|1,3|1,4|\n",
    "|2,0|2,1|2,2|2,3|2,4|\n",
    "|3,0|3,1|3,2|3,3|3,4|\n",
    "|4,0|4,1|4,2|4,3|4,4|"
   ]
  },
  {
   "cell_type": "code",
   "execution_count": 101,
   "metadata": {},
   "outputs": [],
   "source": [
    "def check(pos,matrix):\n",
    "    y, x = pos\n",
    "    if(x>=0 and y>=0 and x<len(matrix) and y<len(matrix) and matrix[y][x]==0):\n",
    "        return True\n",
    "    return False"
   ]
  },
  {
   "cell_type": "code",
   "execution_count": 102,
   "metadata": {},
   "outputs": [],
   "source": [
    "def solve_solution(matrix, pos, solution):\n",
    "    y, x = pos\n",
    "\n",
    "    if(x==len(matrix)-1 and y==len(matrix)-1 and matrix[y][x]==0):\n",
    "        solution[y][x] = 1\n",
    "        return True\n",
    "    \n",
    "    if(check(pos,matrix)):\n",
    "        \n",
    "        if(solution[y][x]==1):\n",
    "            return False\n",
    "        \n",
    "        solution[y][x]=1\n",
    "        \n",
    "        if(solve_solution(matrix, (y, x+1), solution)):\n",
    "            return True\n",
    "        if(solve_solution(matrix, (y+1, x), solution)):\n",
    "            return True\n",
    "        if(solve_solution(matrix, (y, x-1), solution)):\n",
    "            return True\n",
    "        if(solve_solution(matrix, (y-1, x), solution)):\n",
    "            return True\n",
    "        solution[y][x]=0\n",
    "        return False\n",
    "    "
   ]
  },
  {
   "cell_type": "code",
   "execution_count": 103,
   "metadata": {},
   "outputs": [],
   "source": [
    "def solve(matrix):\n",
    "    solution = [[0 for j in range(len(matrix))] for i in range(len(matrix))]\n",
    "    if(solve_solution(matrix, (0,0), solution)):\n",
    "        print('COPS')\n",
    "    else:\n",
    "        print('ROBBERS')"
   ]
  },
  {
   "cell_type": "code",
   "execution_count": 106,
   "metadata": {},
   "outputs": [
    {
     "name": "stdout",
     "output_type": "stream",
     "text": [
      "COPS\n"
     ]
    }
   ],
   "source": [
    "solve(matrix)"
   ]
  },
  {
   "cell_type": "code",
   "execution_count": 77,
   "metadata": {},
   "outputs": [
    {
     "name": "stdout",
     "output_type": "stream",
     "text": [
      "2\n"
     ]
    }
   ],
   "source": [
    "casos = int(input())"
   ]
  },
  {
   "cell_type": "code",
   "execution_count": 89,
   "metadata": {},
   "outputs": [
    {
     "name": "stdout",
     "output_type": "stream",
     "text": [
      "0 0 0 0 1\n",
      "1 1 0 0 1\n",
      "0 1 0 0 0\n",
      "0 0 0 1 1\n",
      "1 1 0 0 0\n",
      "0 0 0 0 1\n",
      "1 1 0 0 1\n",
      "0 1 0 0 0\n",
      "0 0 1 1 1\n",
      "1 1 0 0 0\n"
     ]
    }
   ],
   "source": [
    "matrixz = []\n",
    "for i in range(casos):\n",
    "    matrix = []\n",
    "    for i in range(5):\n",
    "        line = list(map(int,input().split()))\n",
    "        matrix.append(line)\n",
    "    matrixz.append(matrix)"
   ]
  },
  {
   "cell_type": "code",
   "execution_count": 90,
   "metadata": {},
   "outputs": [
    {
     "name": "stdout",
     "output_type": "stream",
     "text": [
      "COPS\n",
      "ROBBERS\n"
     ]
    }
   ],
   "source": [
    "for matrix in matrixz:\n",
    "    solve(matrix)"
   ]
  },
  {
   "cell_type": "code",
   "execution_count": null,
   "metadata": {},
   "outputs": [],
   "source": []
  }
 ],
 "metadata": {
  "kernelspec": {
   "display_name": "Python 3",
   "language": "python",
   "name": "python3"
  },
  "language_info": {
   "codemirror_mode": {
    "name": "ipython",
    "version": 3
   },
   "file_extension": ".py",
   "mimetype": "text/x-python",
   "name": "python",
   "nbconvert_exporter": "python",
   "pygments_lexer": "ipython3",
   "version": "3.8.5"
  }
 },
 "nbformat": 4,
 "nbformat_minor": 4
}
