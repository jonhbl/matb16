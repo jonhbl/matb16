{
 "cells": [
  {
   "cell_type": "markdown",
   "metadata": {
    "id": "goIk5UkNPLG_"
   },
   "source": [
    "# MATA52 - Exercícios da Semana 03\n",
    "\n",
    "*   Grupo: Avenger\n",
    "*   Autores: \n",
    " * [Loki Laufeyson](https://marvel.fandom.com/wiki/Loki) (Responsável)\n",
    "     * Responsável pela primeira reunião dos Vingadores, grupo de super-heróis formado pelo seu arqui-inimigo e irmão adotivo Thor, Homem de Ferro, Viúva Negra, Gavião Arqueiro, Capitão América e Hulk. \n",
    " * [Batman](https://www.youtube.com/watch?v=x-xTttimcNk&list=OLAK5uy_mieL-przDrJDrJdzLrlXeUralT8JvoWEY)\n",
    "     * Eu acho que estou no grupo errado...\n",
    " * [Hulk](https://www.youtube.com/watch?v=hjpF8ukSrvk&list=OLAK5uy_mieL-przDrJDrJdzLrlXeUralT8JvoWEY)\n",
    "     * Smash!!!!"
   ]
  },
  {
   "cell_type": "markdown",
   "metadata": {
    "id": "p9cljaaYlYLl"
   },
   "source": [
    "# Instruções (não apagar)\n",
    "1.   Após criar este notebook, altere o nome do notebook/documentação incluindo o nome do seu grupo. Por exemplo, se você é do grupo Ouro, altere o nome do notebook para \"MATA53-Semana02-Ouro.ipynb\"\n",
    "1. Compartilhe este documento com todos os membros do grupo (para participarem da elaboração deste documento). É importante que o notebook utilizado seja o mesmo compartilhado para que os registros de participação e colaboração fiquem salvos no histórico.\n",
    "1.   Incluia o nome completo dos autores na lista de autores que auxiliaram na elaboração deste notebook. Destaque o responsável como sendo o(a) primeiro(a) autor(a). Relatar brevemente a contribuição de cada membro do grupo.\n",
    "1. Utilize os recursos de blocos de texto e de código para adicionar as suas respostas, sem alterar os blocos de texto e código existente. Não economize, esses blocos são de graça.\n",
    "1. Ao concluir a atividade, compartilhe o notebook com januario.ufba@gmail.com (dando permisão para edição) e deixando o aviso de notificação marcado, para que eu receba o seu e-mail. Identificar o nome do grupo na mensagem de compartilhamento.\n",
    "\n"
   ]
  },
  {
   "cell_type": "markdown",
   "metadata": {
    "id": "_s9ft-1uYos8"
   },
   "source": [
    "# Exercícios"
   ]
  },
  {
   "cell_type": "markdown",
   "metadata": {
    "id": "TBHBFr52SwCC"
   },
   "source": []
  },
  {
   "cell_type": "markdown",
   "metadata": {
    "id": "17ICucpS9m9R"
   },
   "source": [
    "1. Prove que a solução para a recorrência $T(n) = 4T(n/2)+ n$ é $O(n^2)$"
   ]
  },
  {
   "cell_type": "markdown",
   "metadata": {
    "id": "qlynhQzj9yKc"
   },
   "source": [
    "2. Usando o teorema mestre, é possível mostrar que a solução da recorrência $T(n) = 4T(n/3)+n$ é $T(n) = \\theta(n^{log_3 4})$. Prove que o método da substituição com a hipótese $T(n) \\leq cn^{\\log_3 4}$ não funciona."
   ]
  },
  {
   "cell_type": "markdown",
   "metadata": {
    "id": "BpX4F_x19nZc"
   },
   "source": [
    "\n",
    "3. Podemos aplicar o teorema mestre na seguinte recorrência? $T(n) = 4T(n/2)+n^2 \\lg n$? Seja sua resposta sim ou não, justifique-a."
   ]
  },
  {
   "cell_type": "markdown",
   "metadata": {
    "id": "jOuhIB2P92tI"
   },
   "source": [
    "4. Altere a hipótese utilizada na questão 2 para resolver a recorrência apresentada na mesma."
   ]
  }
 ],
 "metadata": {
  "colab": {
   "collapsed_sections": [],
   "name": "MATA52-Semana03-Elemento.ipynb",
   "provenance": []
  },
  "kernelspec": {
   "display_name": "Python 3",
   "language": "python",
   "name": "python3"
  },
  "language_info": {
   "codemirror_mode": {
    "name": "ipython",
    "version": 3
   },
   "file_extension": ".py",
   "mimetype": "text/x-python",
   "name": "python",
   "nbconvert_exporter": "python",
   "pygments_lexer": "ipython3",
   "version": "3.8.5"
  }
 },
 "nbformat": 4,
 "nbformat_minor": 1
}
