{
 "cells": [
  {
   "cell_type": "markdown",
   "metadata": {
    "id": "goIk5UkNPLG_"
   },
   "source": [
    "# MATA52 - Exercícios da Semana 05\n",
    "\n",
    "*   Grupo: Stromae\n",
    "*   Autores: \n",
    " * [L'enfer](https://www.youtube.com/watch?v=DO8NSL5Wyeg) (Responsável)\n",
    "     * Sobre os demônios e conflitos internos (mentais e emocionais). \n",
    " * [Santé](https://www.youtube.com/watch?v=P3QS83ubhHE)\n",
    "     * Uma homenagem a todas as pessoas que trabalham para garantir a diversão dos outros.\n",
    " * [Fils de joie](https://www.youtube.com/watch?v=M7Z2tgJo8Hg)\n",
    "     * Uma homenagem às profissionais do sexo."
   ]
  },
  {
   "cell_type": "markdown",
   "metadata": {
    "id": "p9cljaaYlYLl"
   },
   "source": [
    "# Instruções (não apagar)\n",
    "1. **Responsável**: Após copiar este notebook, altere o nome do notebook/documentação incluindo o nome do seu grupo. Por exemplo, se você é do grupo Ouro, altere o nome do notebook para \"MATA53-Semana02-Ouro.ipynb\"\n",
    "1. **Responsável**: Compartilhe este documento com todos os membros do grupo (para participarem da elaboração deste documento). É importante que o notebook utilizado seja o mesmo compartilhado para que os registros de participação e colaboração fiquem salvos no histórico. Sugira uma divisão justa e defina um prazo aceitável para a inserção das soluções no Colab.\n",
    "1. **Responsável**: Ao concluir a atividade, compartilhe o notebook com januario.ufba@gmail.com (dando permisão para edição) e deixando o aviso de notificação marcado, para que eu receba o seu e-mail. Identificar o nome do grupo na mensagem de compartilhamento.\n",
    "1. **Cada membro**: Incluia o *seu próprio nome completo* na lista de autores que auxiliaram na elaboração deste notebook. Relate brevemente a sua contribuição na solução desta lista. O responsável aparece como sendo o(a) primeiro(a) autor(a).\n",
    "1. **Cada membro**: Utilize os recursos de blocos de texto e de código para adicionar as suas respostas, sem alterar os blocos de texto e código existente. Não economize, esses blocos são de graça.\n",
    "\n",
    "\n"
   ]
  },
  {
   "cell_type": "markdown",
   "metadata": {
    "id": "_s9ft-1uYos8"
   },
   "source": [
    "# Exercícios"
   ]
  },
  {
   "cell_type": "markdown",
   "metadata": {
    "id": "17ICucpS9m9R"
   },
   "source": [
    "1. Um desarranjo é uma permutação de $p$ $\\{1,...,n\\}$ tal que nenhum item está na posição correta, ou seja, $p_i = i$. Implemente um código em Python que apresente todos os desarranjos de uma sequência de tamanho $n$."
   ]
  },
  {
   "cell_type": "code",
   "execution_count": null,
   "metadata": {},
   "outputs": [],
   "source": []
  },
  {
   "cell_type": "markdown",
   "metadata": {
    "id": "qlynhQzj9yKc"
   },
   "source": [
    "2. Matematicamente, um multiconjunto é a generalização de um conjunto, de tal forma que permite a repetição de elementos. Por exemplo, M = {a, b, c, c, d, e, e} é um multiconjunto distinto de X = {a, b, c, d, e}, apesar de que, se M e X fossem conjuntos, teríamos M=X. Um multiconjunto de n itens pode ter menos de n! (êne fatorial) permutações. Por exemplo {1,1,2,2} tem apenas seis permutações distintas: {1, 1, 2, 2}, {1, 2, 1, 2}, {1, 2, 2, 1}, {2, 1, 1, 2}, {2, 1, 2, 1}, e {2,2,1,1}. Implemente um código em Python que apresente todas as permutações de um multiconjunto de tamanho $n$."
   ]
  },
  {
   "cell_type": "markdown",
   "metadata": {
    "id": "BpX4F_x19nZc"
   },
   "source": [
    "\n",
    "3. Crie um algoritmo que, dado $n$ e $C$, imprime todas as sequências de números positivos $x_1$, $x_2$, . . . , $x_n$ tal que\n",
    "$x_1 + x_2 + · · · x_n = C$\n"
   ]
  },
  {
   "cell_type": "markdown",
   "metadata": {
    "id": "jOuhIB2P92tI"
   },
   "source": [
    "4. Considere as seguintes informações:\n",
    "* P = conjunto de palavras com 5 letras.\n",
    "* L = conjunto de letras de A a Z (inicialmente vazio).\n",
    "\n",
    "Implemente um algoritmo em python que liste as palavras do conjunto P tal que nenhuma de suas letras esteja no conjunto L. (Se você estiver em um momento de inspiração, evolua a sua implementação para uma versão alternativa do jogo TERMO - https://term.ooo/)"
   ]
  }
 ],
 "metadata": {
  "colab": {
   "collapsed_sections": [],
   "name": "Cópia de MATA52-Semana05-Berílio.ipynb",
   "provenance": []
  },
  "kernelspec": {
   "display_name": "Python 3",
   "language": "python",
   "name": "python3"
  },
  "language_info": {
   "codemirror_mode": {
    "name": "ipython",
    "version": 3
   },
   "file_extension": ".py",
   "mimetype": "text/x-python",
   "name": "python",
   "nbconvert_exporter": "python",
   "pygments_lexer": "ipython3",
   "version": "3.8.5"
  }
 },
 "nbformat": 4,
 "nbformat_minor": 1
}
