{
 "cells": [
  {
   "cell_type": "code",
   "execution_count": 1,
   "metadata": {},
   "outputs": [],
   "source": [
    "import numpy as np"
   ]
  },
  {
   "cell_type": "code",
   "execution_count": 2,
   "metadata": {},
   "outputs": [],
   "source": [
    "def bubbleSort(array):\n",
    "    arr = array.copy()\n",
    "    for i in range(len(arr)):\n",
    "        for j in range(i+1,len(arr)):\n",
    "            if(arr[i]>arr[j]):\n",
    "                arr[i], arr[j] = arr[j], arr[i]\n",
    "    return arr"
   ]
  },
  {
   "cell_type": "code",
   "execution_count": 3,
   "metadata": {},
   "outputs": [],
   "source": [
    "def insertionSort(array):\n",
    "    arr = array.copy()\n",
    "    for i in range(1,len(arr)):\n",
    "        current = arr[i]\n",
    "        j = i-1\n",
    "        while(j>=0 and arr[j]>current):\n",
    "            arr[j+1] = arr[j]\n",
    "            j-=1\n",
    "        arr[j+1] = current\n",
    "    return arr"
   ]
  },
  {
   "cell_type": "code",
   "execution_count": 4,
   "metadata": {},
   "outputs": [],
   "source": [
    "def mergeSort(array, l, r):\n",
    "    if (l < r):\n",
    "        m = int(l + (r-l)/2)\n",
    "        mergeSort(array,l,m)\n",
    "        mergeSort(array,m+1,r)\n",
    "        merge(array, l, m, r)\n",
    "    return array"
   ]
  },
  {
   "cell_type": "code",
   "execution_count": 5,
   "metadata": {},
   "outputs": [],
   "source": [
    "def merge(array, l, m, r):\n",
    "    t1 = m - l + 1\n",
    "    t2 = r - m\n",
    "    arr1,arr2 = [None]*t1,[None]*t2\n",
    "    \n",
    "    for i in range(t1):\n",
    "        arr1[i] = array[l+i]\n",
    "    for j in range(t2):\n",
    "        arr2[j] = array[m+j+1]\n",
    "    c1, c2, cm = 0, 0, l\n",
    "    while(c1<t1 and c2<t2):\n",
    "        if(arr1[c1] >= arr2[c2]):\n",
    "            array[cm] = arr1[c1]\n",
    "            c1 = c1 + 1\n",
    "        else:\n",
    "            array[cm] = arr2[c2]\n",
    "            c2 = c2 + 1\n",
    "        cm = cm + 1\n",
    "    \n",
    "    while(c1<t1):\n",
    "        array[cm] = arr1[c1]\n",
    "        c1 = c1 + 1\n",
    "        cm = cm + 1\n",
    "    while(c2<t2):\n",
    "        array[cm] = arr2[c2]\n",
    "        c2 = c2 + 1\n",
    "        cm = cm + 1"
   ]
  },
  {
   "cell_type": "code",
   "execution_count": 6,
   "metadata": {},
   "outputs": [],
   "source": [
    "def compare(arr1,arr2):\n",
    "    counter = 0\n",
    "    for v1, v2 in zip(arr1,arr2):\n",
    "        if(v1!=v2):\n",
    "            counter = counter + 1\n",
    "    return len(arr1)-counter"
   ]
  },
  {
   "cell_type": "code",
   "execution_count": null,
   "metadata": {},
   "outputs": [],
   "source": [
    "res = []\n",
    "for i in range(int(input())):\n",
    "    tam = int(input())\n",
    "    arr = input().split()\n",
    "    arr = list(map(int,arr))\n",
    "    res.append(compare(arr, mergeSort(arr.copy(),0,len(arr)-1)))\n",
    "for counter in res:\n",
    "    print('Número de trocas: %d.'%counter)"
   ]
  },
  {
   "cell_type": "code",
   "execution_count": null,
   "metadata": {
    "scrolled": false
   },
   "outputs": [],
   "source": [
    "mergeSort(arr.copy(),0,len(arr)-1)    "
   ]
  },
  {
   "cell_type": "code",
   "execution_count": null,
   "metadata": {},
   "outputs": [],
   "source": [
    "bubbleSort(arr)"
   ]
  },
  {
   "cell_type": "code",
   "execution_count": null,
   "metadata": {},
   "outputs": [],
   "source": [
    "insertionSort(arr)"
   ]
  },
  {
   "cell_type": "code",
   "execution_count": 7,
   "metadata": {},
   "outputs": [],
   "source": [
    "matrix = [[1, 0, 0, 0],[1, 1, 0, 1],[0, 1, 0, 0],[1, 1, 1, 1]]"
   ]
  },
  {
   "cell_type": "code",
   "execution_count": 8,
   "metadata": {},
   "outputs": [
    {
     "data": {
      "text/plain": [
       "[[1, 0, 0, 0], [1, 1, 0, 1], [0, 1, 0, 0], [1, 1, 1, 1]]"
      ]
     },
     "execution_count": 8,
     "metadata": {},
     "output_type": "execute_result"
    }
   ],
   "source": [
    "de"
   ]
  },
  {
   "cell_type": "code",
   "execution_count": null,
   "metadata": {},
   "outputs": [],
   "source": []
  }
 ],
 "metadata": {
  "kernelspec": {
   "display_name": "Python 3.8.5 64-bit ('base': conda)",
   "language": "python",
   "name": "python385jvsc74a57bd00c987d2e86efe870dae118fac56ace1077d6416fa9853339d541fa47c5d67ed0"
  },
  "language_info": {
   "codemirror_mode": {
    "name": "ipython",
    "version": 3
   },
   "file_extension": ".py",
   "mimetype": "text/x-python",
   "name": "python",
   "nbconvert_exporter": "python",
   "pygments_lexer": "ipython3",
   "version": "3.8.5"
  }
 },
 "nbformat": 4,
 "nbformat_minor": 4
}
