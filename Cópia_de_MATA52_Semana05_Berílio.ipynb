{
 "cells": [
  {
   "cell_type": "markdown",
   "metadata": {
    "id": "goIk5UkNPLG_"
   },
   "source": [
    "# MATA52 - Exercícios da Semana 05\n",
    "\n",
    "*   Grupo: Stromae\n",
    "*   Autores: \n",
    " * [L'enfer](https://www.youtube.com/watch?v=DO8NSL5Wyeg) (Responsável)\n",
    "     * Sobre os demônios e conflitos internos (mentais e emocionais). \n",
    " * [Santé](https://www.youtube.com/watch?v=P3QS83ubhHE)\n",
    "     * Uma homenagem a todas as pessoas que trabalham para garantir a diversão dos outros.\n",
    " * [Fils de joie](https://www.youtube.com/watch?v=M7Z2tgJo8Hg)\n",
    "     * Uma homenagem às profissionais do sexo."
   ]
  },
  {
   "cell_type": "markdown",
   "metadata": {
    "id": "p9cljaaYlYLl"
   },
   "source": [
    "# Instruções (não apagar)\n",
    "1. **Responsável**: Após copiar este notebook, altere o nome do notebook/documentação incluindo o nome do seu grupo. Por exemplo, se você é do grupo Ouro, altere o nome do notebook para \"MATA53-Semana02-Ouro.ipynb\"\n",
    "1. **Responsável**: Compartilhe este documento com todos os membros do grupo (para participarem da elaboração deste documento). É importante que o notebook utilizado seja o mesmo compartilhado para que os registros de participação e colaboração fiquem salvos no histórico. Sugira uma divisão justa e defina um prazo aceitável para a inserção das soluções no Colab.\n",
    "1. **Responsável**: Ao concluir a atividade, compartilhe o notebook com januario.ufba@gmail.com (dando permisão para edição) e deixando o aviso de notificação marcado, para que eu receba o seu e-mail. Identificar o nome do grupo na mensagem de compartilhamento.\n",
    "1. **Cada membro**: Incluia o *seu próprio nome completo* na lista de autores que auxiliaram na elaboração deste notebook. Relate brevemente a sua contribuição na solução desta lista. O responsável aparece como sendo o(a) primeiro(a) autor(a).\n",
    "1. **Cada membro**: Utilize os recursos de blocos de texto e de código para adicionar as suas respostas, sem alterar os blocos de texto e código existente. Não economize, esses blocos são de graça.\n",
    "\n",
    "\n"
   ]
  },
  {
   "cell_type": "markdown",
   "metadata": {
    "id": "_s9ft-1uYos8"
   },
   "source": [
    "# Exercícios"
   ]
  },
  {
   "cell_type": "markdown",
   "metadata": {
    "id": "17ICucpS9m9R"
   },
   "source": [
    "1. Um desarranjo é uma permutação de $p$ $\\{1,...,n\\}$ tal que nenhum item está na posição correta, ou seja, $p_i = i$. Implemente um código em Python que apresente todos os desarranjos de uma sequência de tamanho $n$."
   ]
  },
  {
   "cell_type": "code",
   "execution_count": 14,
   "metadata": {},
   "outputs": [],
   "source": [
    "def get_derangement_number(n):\n",
    "    d = 0\n",
    "    for i in range(n+1):\n",
    "        d += np.math.factorial(n)*(np.power(-1,i) / (np.math.factorial(i))) \n",
    "    return int(d)"
   ]
  },
  {
   "cell_type": "markdown",
   "metadata": {
    "id": "qlynhQzj9yKc"
   },
   "source": [
    "2. Matematicamente, um multiconjunto é a generalização de um conjunto, de tal forma que permite a repetição de elementos. Por exemplo, M = {a, b, c, c, d, e, e} é um multiconjunto distinto de X = {a, b, c, d, e}, apesar de que, se M e X fossem conjuntos, teríamos M=X. Um multiconjunto de n itens pode ter menos de n! (êne fatorial) permutações. Por exemplo {1,1,2,2} tem apenas seis permutações distintas: {1, 1, 2, 2}, {1, 2, 1, 2}, {1, 2, 2, 1}, {2, 1, 1, 2}, {2, 1, 2, 1}, e {2,2,1,1}. Implemente um código em Python que apresente todas as permutações de um multiconjunto de tamanho $n$."
   ]
  },
  {
   "cell_type": "markdown",
   "metadata": {
    "id": "BpX4F_x19nZc"
   },
   "source": [
    "\n",
    "3. Crie um algoritmo que, dado $n$ e $C$, imprime todas as sequências de números positivos $x_1$, $x_2$, . . . , $x_n$ tal que\n",
    "$x_1 + x_2 + · · · x_n = C$\n"
   ]
  },
  {
   "cell_type": "markdown",
   "metadata": {
    "id": "jOuhIB2P92tI"
   },
   "source": [
    "4. Considere as seguintes informações:\n",
    "* P = conjunto de palavras com 5 letras.\n",
    "* L = conjunto de letras de A a Z (inicialmente vazio).\n",
    "\n",
    "Implemente um algoritmo em python que liste as palavras do conjunto P tal que nenhuma de suas letras esteja no conjunto L. (Se você estiver em um momento de inspiração, evolua a sua implementação para uma versão alternativa do jogo TERMO - https://term.ooo/)"
   ]
  },
  {
   "cell_type": "code",
   "execution_count": 1,
   "metadata": {},
   "outputs": [],
   "source": [
    "import numpy as np"
   ]
  },
  {
   "cell_type": "code",
   "execution_count": 85,
   "metadata": {},
   "outputs": [],
   "source": [
    "word = np.asarray(['A','M','O','R'])\n",
    "word = np.asarray(['U','F','B','A'])"
   ]
  },
  {
   "cell_type": "markdown",
   "metadata": {},
   "source": [
    "1 - A\n",
    "1, 2, 3\n",
    "\n",
    "_,A,_,_"
   ]
  },
  {
   "cell_type": "code",
   "execution_count": 86,
   "metadata": {},
   "outputs": [],
   "source": [
    "actual_value_pos = np.where('A' in word)[0][0]"
   ]
  },
  {
   "cell_type": "code",
   "execution_count": 87,
   "metadata": {},
   "outputs": [],
   "source": [
    "arr = np.arange(len(word))"
   ]
  },
  {
   "cell_type": "code",
   "execution_count": 88,
   "metadata": {},
   "outputs": [],
   "source": [
    "def swap(arr, p1, p2):\n",
    "    arr_temp = arr.copy()\n",
    "    arr_temp[p1], arr_temp[p2] = arr_temp[p2], arr_temp[p1]\n",
    "    return arr_temp"
   ]
  },
  {
   "cell_type": "code",
   "execution_count": null,
   "metadata": {},
   "outputs": [],
   "source": []
  },
  {
   "cell_type": "code",
   "execution_count": 99,
   "metadata": {},
   "outputs": [],
   "source": [
    "index = 0"
   ]
  },
  {
   "cell_type": "code",
   "execution_count": 98,
   "metadata": {},
   "outputs": [],
   "source": [
    "possible_pos = np.asarray([0,])"
   ]
  },
  {
   "cell_type": "code",
   "execution_count": 91,
   "metadata": {},
   "outputs": [
    {
     "name": "stderr",
     "output_type": "stream",
     "text": [
      "<ipython-input-91-70d5215401ea>:1: FutureWarning: elementwise comparison failed; returning scalar instead, but in the future will perform elementwise comparison\n",
      "  while(len(letters==0)):\n"
     ]
    },
    {
     "ename": "TypeError",
     "evalue": "object of type 'bool' has no len()",
     "output_type": "error",
     "traceback": [
      "\u001b[0;31m---------------------------------------------------------------------------\u001b[0m",
      "\u001b[0;31mTypeError\u001b[0m                                 Traceback (most recent call last)",
      "\u001b[0;32m<ipython-input-91-70d5215401ea>\u001b[0m in \u001b[0;36m<module>\u001b[0;34m\u001b[0m\n\u001b[0;32m----> 1\u001b[0;31m \u001b[0;32mwhile\u001b[0m\u001b[0;34m(\u001b[0m\u001b[0mlen\u001b[0m\u001b[0;34m(\u001b[0m\u001b[0mletters\u001b[0m\u001b[0;34m==\u001b[0m\u001b[0;36m0\u001b[0m\u001b[0;34m)\u001b[0m\u001b[0;34m)\u001b[0m\u001b[0;34m:\u001b[0m\u001b[0;34m\u001b[0m\u001b[0;34m\u001b[0m\u001b[0m\n\u001b[0m\u001b[1;32m      2\u001b[0m     \u001b[0mswap\u001b[0m\u001b[0;34m(\u001b[0m\u001b[0mword\u001b[0m\u001b[0;34m,\u001b[0m\u001b[0;36m1\u001b[0m\u001b[0;34m,\u001b[0m\u001b[0;36m2\u001b[0m\u001b[0;34m)\u001b[0m\u001b[0;34m\u001b[0m\u001b[0;34m\u001b[0m\u001b[0m\n",
      "\u001b[0;31mTypeError\u001b[0m: object of type 'bool' has no len()"
     ]
    }
   ],
   "source": [
    "while(len(letters==0)):\n",
    "    swap(word,1,2)"
   ]
  },
  {
   "cell_type": "code",
   "execution_count": 97,
   "metadata": {},
   "outputs": [
    {
     "data": {
      "text/plain": [
       "1"
      ]
     },
     "execution_count": 97,
     "metadata": {},
     "output_type": "execute_result"
    }
   ],
   "source": [
    "actual_new_value_pos = others_value_pos[0] ; actual_new_value_pos"
   ]
  },
  {
   "cell_type": "code",
   "execution_count": 94,
   "metadata": {},
   "outputs": [
    {
     "data": {
      "text/plain": [
       "array(['F', 'U', 'B', 'A'], dtype='<U1')"
      ]
     },
     "execution_count": 94,
     "metadata": {},
     "output_type": "execute_result"
    }
   ],
   "source": [
    "swap(word, actual_new_value_pos, actual_value_pos)"
   ]
  },
  {
   "cell_type": "code",
   "execution_count": 95,
   "metadata": {
    "scrolled": true
   },
   "outputs": [
    {
     "data": {
      "text/plain": [
       "array(['O', 'R'], dtype='<U1')"
      ]
     },
     "execution_count": 95,
     "metadata": {},
     "output_type": "execute_result"
    }
   ],
   "source": [
    "possibles_values = word[np.delete(arr,[actual_new_value_pos, actual_value_pos])] ; possible_values"
   ]
  },
  {
   "cell_type": "code",
   "execution_count": 96,
   "metadata": {},
   "outputs": [
    {
     "data": {
      "text/plain": [
       "array([1, 2, 3])"
      ]
     },
     "execution_count": 96,
     "metadata": {},
     "output_type": "execute_result"
    }
   ],
   "source": [
    "others_value_pos"
   ]
  },
  {
   "cell_type": "code",
   "execution_count": 93,
   "metadata": {},
   "outputs": [
    {
     "data": {
      "text/plain": [
       "array([1, 3])"
      ]
     },
     "execution_count": 93,
     "metadata": {},
     "output_type": "execute_result"
    }
   ],
   "source": [
    "possibles_pos = np.delete(others_value_pos, actual_new_value_pos) ; possibles_pos "
   ]
  },
  {
   "cell_type": "code",
   "execution_count": 92,
   "metadata": {
    "scrolled": true
   },
   "outputs": [
    {
     "name": "stdout",
     "output_type": "stream",
     "text": [
      "['F' 'U' 'B' 'A']\n",
      "['B' 'F' 'U' 'A']\n",
      "['A' 'F' 'B' 'U']\n"
     ]
    }
   ],
   "source": [
    "actual_value_pos\n",
    "others_value_pos = np.delete(arr, actual_value_pos)\n",
    "\n",
    "for index in others_value_pos:\n",
    "    temp_word = word.copy()\n",
    "    letters = word[np.delete(arr,pos)]\n",
    "    possible_pos = np.delete(arr, index)\n",
    "    temp_word = swap(temp_word, index, actual_value_pos)\n",
    "    print(temp_word)"
   ]
  },
  {
   "cell_type": "code",
   "execution_count": null,
   "metadata": {},
   "outputs": [],
   "source": []
  }
 ],
 "metadata": {
  "colab": {
   "collapsed_sections": [],
   "name": "Cópia de MATA52-Semana05-Berílio.ipynb",
   "provenance": []
  },
  "kernelspec": {
   "display_name": "Python 3",
   "language": "python",
   "name": "python3"
  },
  "language_info": {
   "codemirror_mode": {
    "name": "ipython",
    "version": 3
   },
   "file_extension": ".py",
   "mimetype": "text/x-python",
   "name": "python",
   "nbconvert_exporter": "python",
   "pygments_lexer": "ipython3",
   "version": "3.8.5"
  }
 },
 "nbformat": 4,
 "nbformat_minor": 1
}
